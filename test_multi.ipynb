{
 "cells": [
  {
   "cell_type": "markdown",
   "id": "6a646dde",
   "metadata": {},
   "source": [
    "# Partial Least Squares (PLS)\n",
    "---"
   ]
  },
  {
   "cell_type": "code",
   "execution_count": 1,
   "id": "bc79e1d0",
   "metadata": {},
   "outputs": [],
   "source": [
    "using DataFrames, Statistics, LinearAlgebra\n",
    "using Distributions, StatsBase, Random, MLJ, ShapML\n",
    "\n",
    "include(\"src/test_s3.jl\");"
   ]
  },
  {
   "cell_type": "code",
   "execution_count": 2,
   "id": "d17b19bd",
   "metadata": {},
   "outputs": [],
   "source": [
    "lpheno = S3Path(\"s3://envbran/methylation/GSE117064_pheno.arrow\")\n",
    "lmirna = S3Path(\"s3://envbran/methylation/GSE117064_mirna.arrow\")\n",
    "\n",
    "pheno = DataFrame(Arrow.Table(lpheno));\n",
    "mirna = DataFrame(Arrow.Table(lmirna));"
   ]
  },
  {
   "cell_type": "code",
   "execution_count": 6,
   "id": "8827de5b",
   "metadata": {},
   "outputs": [],
   "source": [
    "pheno = pheno[pheno.diagnosis .== 0,:];"
   ]
  },
  {
   "cell_type": "code",
   "execution_count": 7,
   "id": "a03f75ec",
   "metadata": {},
   "outputs": [],
   "source": [
    "mirna = mirna[:,vcat(\"rn\",pheno.geo_accession)];\n",
    "mirna.rn = \"miRNA\" .* string.(1:2565);\n",
    "Tmirna = permutedims(mirna,1);"
   ]
  },
  {
   "cell_type": "code",
   "execution_count": 32,
   "id": "7197ef2e",
   "metadata": {},
   "outputs": [
    {
     "data": {
      "text/plain": [
       "4-element Vector{String}:\n",
       " \"bmi:ch1\"\n",
       " \"diastolic bp:ch1\"\n",
       " \"hb-a1c:ch1\"\n",
       " \"systolic bp:ch1\""
      ]
     },
     "execution_count": 32,
     "metadata": {},
     "output_type": "execute_result"
    }
   ],
   "source": [
    "names_outcome = names(pheno)[[7,8,10,13]]"
   ]
  },
  {
   "cell_type": "code",
   "execution_count": 34,
   "id": "a4fe207e",
   "metadata": {},
   "outputs": [],
   "source": [
    "pheno[:,\"bmi\"] = parse.(Float64, pheno[:,\"bmi:ch1\"])\n",
    "pheno[:,\"dia\"] = parse.(Float64, pheno[:,\"diastolic bp:ch1\"])\n",
    "pheno[:,\"hba1c\"] = parse.(Float64, pheno[:,\"hb-a1c:ch1\"])\n",
    "pheno[:,\"sys\"] = parse.(Float64, pheno[:,\"systolic bp:ch1\"]);"
   ]
  },
  {
   "cell_type": "code",
   "execution_count": 35,
   "id": "cd2bd1aa",
   "metadata": {},
   "outputs": [
    {
     "data": {
      "text/plain": [
       "Tables.MatrixTable{Matrix{Float64}} with 1612 rows, 4 columns, and schema:\n",
       " :x1  Float64\n",
       " :x2  Float64\n",
       " :x3  Float64\n",
       " :x4  Float64"
      ]
     },
     "execution_count": 35,
     "metadata": {},
     "output_type": "execute_result"
    }
   ],
   "source": [
    "train, test = partition(collect(eachindex(Tmirna.miRNA1)), 0.8, shuffle=true, rng=111)\n",
    "X = MLJ.table(Matrix{Float64}(Tmirna[:,2:2566]))\n",
    "y = MLJ.table(Matrix{Float64}(pheno[:,[:bmi,:dia,:sys,:hba1c]]))"
   ]
  },
  {
   "cell_type": "code",
   "execution_count": 51,
   "id": "a9384b1a",
   "metadata": {},
   "outputs": [
    {
     "name": "stdout",
     "output_type": "stream",
     "text": [
      "import PartialLeastSquaresRegressor ✔\n",
      "import MLJModels ✔\n"
     ]
    },
    {
     "name": "stderr",
     "output_type": "stream",
     "text": [
      "\u001b[36m\u001b[1m[ \u001b[22m\u001b[39m\u001b[36m\u001b[1mInfo: \u001b[22m\u001b[39mFor silent loading, specify `verbosity=0`. \n",
      "\u001b[36m\u001b[1m[ \u001b[22m\u001b[39m\u001b[36m\u001b[1mInfo: \u001b[22m\u001b[39mFor silent loading, specify `verbosity=0`. \n"
     ]
    },
    {
     "data": {
      "text/plain": [
       "MLJModels.Standardizer"
      ]
     },
     "execution_count": 51,
     "metadata": {},
     "output_type": "execute_result"
    }
   ],
   "source": [
    "PLSRegressor = @load PLSRegressor pkg=PartialLeastSquaresRegressor\n",
    "Standardizer = @load Standardizer pkg=MLJModels"
   ]
  },
  {
   "cell_type": "code",
   "execution_count": 52,
   "id": "1591fe1c",
   "metadata": {},
   "outputs": [
    {
     "data": {
      "text/plain": [
       "DeterministicPipeline(\n",
       "  standardizer = Standardizer(\n",
       "        features = Symbol[], \n",
       "        ignore = false, \n",
       "        ordered_factor = false, \n",
       "        count = false), \n",
       "  pls_regressor = PLSRegressor(\n",
       "        n_factors = 25), \n",
       "  cache = true)"
      ]
     },
     "execution_count": 52,
     "metadata": {},
     "output_type": "execute_result"
    }
   ],
   "source": [
    "model = Standardizer |> PLSRegressor(n_factors=25)"
   ]
  },
  {
   "cell_type": "code",
   "execution_count": 58,
   "id": "5012f5b6",
   "metadata": {},
   "outputs": [
    {
     "data": {
      "text/plain": [
       "untrained Machine; does not cache data\n",
       "  model: DeterministicPipeline(standardizer = Standardizer(features = Symbol[], …), …)\n",
       "  args: \n",
       "    1:\tSource @328 ⏎ Table{AbstractVector{ScientificTypesBase.Continuous}}\n",
       "    2:\tSource @044 ⏎ Table{AbstractVector{ScientificTypesBase.Continuous}}\n"
      ]
     },
     "execution_count": 58,
     "metadata": {},
     "output_type": "execute_result"
    }
   ],
   "source": [
    "mach = machine(model, X, y) "
   ]
  },
  {
   "cell_type": "code",
   "execution_count": 59,
   "id": "19dfdb35",
   "metadata": {},
   "outputs": [
    {
     "name": "stderr",
     "output_type": "stream",
     "text": [
      "\u001b[36m\u001b[1m[ \u001b[22m\u001b[39m\u001b[36m\u001b[1mInfo: \u001b[22m\u001b[39mTraining machine(DeterministicPipeline(standardizer = Standardizer(features = Symbol[], …), …), …).\n",
      "\u001b[36m\u001b[1m[ \u001b[22m\u001b[39m\u001b[36m\u001b[1mInfo: \u001b[22m\u001b[39mTraining machine(:standardizer, …).\n",
      "\u001b[36m\u001b[1m[ \u001b[22m\u001b[39m\u001b[36m\u001b[1mInfo: \u001b[22m\u001b[39mTraining machine(:pls_regressor, …).\n"
     ]
    },
    {
     "data": {
      "text/plain": [
       "trained Machine; does not cache data\n",
       "  model: DeterministicPipeline(standardizer = Standardizer(features = Symbol[], …), …)\n",
       "  args: \n",
       "    1:\tSource @328 ⏎ Table{AbstractVector{ScientificTypesBase.Continuous}}\n",
       "    2:\tSource @044 ⏎ Table{AbstractVector{ScientificTypesBase.Continuous}}\n"
      ]
     },
     "execution_count": 59,
     "metadata": {},
     "output_type": "execute_result"
    }
   ],
   "source": [
    "fit!(mach, rows = train)"
   ]
  },
  {
   "cell_type": "code",
   "execution_count": 60,
   "id": "e3820d03",
   "metadata": {},
   "outputs": [],
   "source": [
    "yhat = MLJ.predict(mach, rows = test);"
   ]
  }
 ],
 "metadata": {
  "kernelspec": {
   "display_name": "Julia 1.6.1",
   "language": "julia",
   "name": "julia-1.6"
  },
  "language_info": {
   "file_extension": ".jl",
   "mimetype": "application/julia",
   "name": "julia",
   "version": "1.6.1"
  }
 },
 "nbformat": 4,
 "nbformat_minor": 5
}
