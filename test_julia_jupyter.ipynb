{
 "cells": [
  {
   "cell_type": "markdown",
   "metadata": {},
   "source": [
    "## Example Julia\n",
    "---\n",
    "Example of jupyter file using julia through VSCode. Import library for ML model and data management\n"
   ]
  },
  {
   "cell_type": "code",
   "execution_count": 3,
   "metadata": {},
   "outputs": [],
   "source": [
    "using DataFrames, Statistics, LinearAlgebra\n",
    "using Distributions, StatsBase, Random, MLJ"
   ]
  },
  {
   "cell_type": "code",
   "execution_count": 1,
   "metadata": {},
   "outputs": [],
   "source": [
    "include(\"test_s3.jl\");"
   ]
  },
  {
   "cell_type": "markdown",
   "metadata": {},
   "source": [
    "Load the dataset stored in Amazon S3 in arrow format"
   ]
  },
  {
   "cell_type": "code",
   "execution_count": 4,
   "metadata": {},
   "outputs": [
    {
     "data": {
      "text/html": [
       "<div class=\"data-frame\"><p>2,565 rows × 1,786 columns (omitted printing of 1779 columns)</p><table class=\"data-frame\"><thead><tr><th></th><th>rn</th><th>GSM3268083</th><th>GSM3268084</th><th>GSM3268085</th><th>GSM3268086</th><th>GSM3268087</th><th>GSM3268088</th></tr><tr><th></th><th title=\"Union{Missing, String}\">String?</th><th title=\"Union{Missing, Float64}\">Float64?</th><th title=\"Union{Missing, Float64}\">Float64?</th><th title=\"Union{Missing, Float64}\">Float64?</th><th title=\"Union{Missing, Float64}\">Float64?</th><th title=\"Union{Missing, Float64}\">Float64?</th><th title=\"Union{Missing, Float64}\">Float64?</th></tr></thead><tbody><tr><th>1</th><td>MIMAT0000062</td><td>3.27</td><td>-2.605</td><td>4.654</td><td>-1.089</td><td>3.688</td><td>-1.174</td></tr><tr><th>2</th><td>MIMAT0000063</td><td>2.959</td><td>-2.605</td><td>3.59</td><td>-1.089</td><td>-0.915</td><td>-1.174</td></tr><tr><th>3</th><td>MIMAT0000064</td><td>0.516</td><td>-2.605</td><td>1.925</td><td>-1.089</td><td>-0.915</td><td>-1.174</td></tr><tr><th>4</th><td>MIMAT0000065</td><td>0.516</td><td>0.387</td><td>-1.809</td><td>1.838</td><td>-0.915</td><td>-1.174</td></tr><tr><th>5</th><td>MIMAT0000066</td><td>0.516</td><td>-2.605</td><td>3.493</td><td>-1.089</td><td>-0.915</td><td>-1.174</td></tr><tr><th>6</th><td>MIMAT0000067</td><td>0.516</td><td>-2.605</td><td>1.522</td><td>-1.089</td><td>2.576</td><td>-1.174</td></tr><tr><th>7</th><td>MIMAT0000068</td><td>0.516</td><td>1.855</td><td>3.051</td><td>-1.089</td><td>-0.915</td><td>-1.174</td></tr><tr><th>8</th><td>MIMAT0000069</td><td>0.516</td><td>-2.605</td><td>-1.809</td><td>-1.089</td><td>-0.915</td><td>-1.174</td></tr><tr><th>9</th><td>MIMAT0000070</td><td>3.514</td><td>-2.605</td><td>-1.809</td><td>3.733</td><td>-0.915</td><td>1.935</td></tr><tr><th>10</th><td>MIMAT0000071</td><td>4.963</td><td>3.941</td><td>5.218</td><td>5.06</td><td>5.128</td><td>3.362</td></tr><tr><th>11</th><td>MIMAT0000072</td><td>0.516</td><td>-2.605</td><td>-1.809</td><td>-1.089</td><td>3.557</td><td>-1.174</td></tr><tr><th>12</th><td>MIMAT0000073</td><td>0.516</td><td>-2.605</td><td>-1.809</td><td>-1.089</td><td>-0.915</td><td>-1.174</td></tr><tr><th>13</th><td>MIMAT0000074</td><td>0.516</td><td>-2.605</td><td>4.151</td><td>1.323</td><td>4.989</td><td>-1.174</td></tr><tr><th>14</th><td>MIMAT0000075</td><td>0.516</td><td>3.334</td><td>2.595</td><td>2.28</td><td>-0.915</td><td>5.024</td></tr><tr><th>15</th><td>MIMAT0000076</td><td>5.028</td><td>2.554</td><td>4.18</td><td>-1.089</td><td>4.334</td><td>1.43</td></tr><tr><th>16</th><td>MIMAT0000077</td><td>4.865</td><td>1.101</td><td>1.231</td><td>5.453</td><td>4.2</td><td>3.909</td></tr><tr><th>17</th><td>MIMAT0000078</td><td>5.604</td><td>1.932</td><td>4.298</td><td>0.07</td><td>4.255</td><td>4.694</td></tr><tr><th>18</th><td>MIMAT0000079</td><td>3.821</td><td>-2.605</td><td>-1.809</td><td>1.18</td><td>-0.915</td><td>-1.174</td></tr><tr><th>19</th><td>MIMAT0000080</td><td>6.821</td><td>4.82</td><td>6.905</td><td>4.957</td><td>5.395</td><td>3.033</td></tr><tr><th>20</th><td>MIMAT0000081</td><td>0.516</td><td>0.798</td><td>2.614</td><td>-1.089</td><td>-0.915</td><td>-1.174</td></tr><tr><th>21</th><td>MIMAT0000082</td><td>6.473</td><td>-2.605</td><td>1.058</td><td>-1.089</td><td>-0.915</td><td>-1.174</td></tr><tr><th>22</th><td>MIMAT0000083</td><td>5.024</td><td>-2.605</td><td>3.523</td><td>-1.089</td><td>-0.915</td><td>-1.174</td></tr><tr><th>23</th><td>MIMAT0000084</td><td>0.516</td><td>1.748</td><td>2.938</td><td>-1.089</td><td>-0.915</td><td>-1.174</td></tr><tr><th>24</th><td>MIMAT0000085</td><td>0.516</td><td>-2.605</td><td>3.468</td><td>-1.089</td><td>0.134</td><td>-1.174</td></tr><tr><th>&vellip;</th><td>&vellip;</td><td>&vellip;</td><td>&vellip;</td><td>&vellip;</td><td>&vellip;</td><td>&vellip;</td><td>&vellip;</td></tr></tbody></table></div>"
      ],
      "text/latex": [
       "\\begin{tabular}{r|cccccccc}\n",
       "\t& rn & GSM3268083 & GSM3268084 & GSM3268085 & GSM3268086 & GSM3268087 & GSM3268088 & \\\\\n",
       "\t\\hline\n",
       "\t& String? & Float64? & Float64? & Float64? & Float64? & Float64? & Float64? & \\\\\n",
       "\t\\hline\n",
       "\t1 & MIMAT0000062 & 3.27 & -2.605 & 4.654 & -1.089 & 3.688 & -1.174 & $\\dots$ \\\\\n",
       "\t2 & MIMAT0000063 & 2.959 & -2.605 & 3.59 & -1.089 & -0.915 & -1.174 & $\\dots$ \\\\\n",
       "\t3 & MIMAT0000064 & 0.516 & -2.605 & 1.925 & -1.089 & -0.915 & -1.174 & $\\dots$ \\\\\n",
       "\t4 & MIMAT0000065 & 0.516 & 0.387 & -1.809 & 1.838 & -0.915 & -1.174 & $\\dots$ \\\\\n",
       "\t5 & MIMAT0000066 & 0.516 & -2.605 & 3.493 & -1.089 & -0.915 & -1.174 & $\\dots$ \\\\\n",
       "\t6 & MIMAT0000067 & 0.516 & -2.605 & 1.522 & -1.089 & 2.576 & -1.174 & $\\dots$ \\\\\n",
       "\t7 & MIMAT0000068 & 0.516 & 1.855 & 3.051 & -1.089 & -0.915 & -1.174 & $\\dots$ \\\\\n",
       "\t8 & MIMAT0000069 & 0.516 & -2.605 & -1.809 & -1.089 & -0.915 & -1.174 & $\\dots$ \\\\\n",
       "\t9 & MIMAT0000070 & 3.514 & -2.605 & -1.809 & 3.733 & -0.915 & 1.935 & $\\dots$ \\\\\n",
       "\t10 & MIMAT0000071 & 4.963 & 3.941 & 5.218 & 5.06 & 5.128 & 3.362 & $\\dots$ \\\\\n",
       "\t11 & MIMAT0000072 & 0.516 & -2.605 & -1.809 & -1.089 & 3.557 & -1.174 & $\\dots$ \\\\\n",
       "\t12 & MIMAT0000073 & 0.516 & -2.605 & -1.809 & -1.089 & -0.915 & -1.174 & $\\dots$ \\\\\n",
       "\t13 & MIMAT0000074 & 0.516 & -2.605 & 4.151 & 1.323 & 4.989 & -1.174 & $\\dots$ \\\\\n",
       "\t14 & MIMAT0000075 & 0.516 & 3.334 & 2.595 & 2.28 & -0.915 & 5.024 & $\\dots$ \\\\\n",
       "\t15 & MIMAT0000076 & 5.028 & 2.554 & 4.18 & -1.089 & 4.334 & 1.43 & $\\dots$ \\\\\n",
       "\t16 & MIMAT0000077 & 4.865 & 1.101 & 1.231 & 5.453 & 4.2 & 3.909 & $\\dots$ \\\\\n",
       "\t17 & MIMAT0000078 & 5.604 & 1.932 & 4.298 & 0.07 & 4.255 & 4.694 & $\\dots$ \\\\\n",
       "\t18 & MIMAT0000079 & 3.821 & -2.605 & -1.809 & 1.18 & -0.915 & -1.174 & $\\dots$ \\\\\n",
       "\t19 & MIMAT0000080 & 6.821 & 4.82 & 6.905 & 4.957 & 5.395 & 3.033 & $\\dots$ \\\\\n",
       "\t20 & MIMAT0000081 & 0.516 & 0.798 & 2.614 & -1.089 & -0.915 & -1.174 & $\\dots$ \\\\\n",
       "\t21 & MIMAT0000082 & 6.473 & -2.605 & 1.058 & -1.089 & -0.915 & -1.174 & $\\dots$ \\\\\n",
       "\t22 & MIMAT0000083 & 5.024 & -2.605 & 3.523 & -1.089 & -0.915 & -1.174 & $\\dots$ \\\\\n",
       "\t23 & MIMAT0000084 & 0.516 & 1.748 & 2.938 & -1.089 & -0.915 & -1.174 & $\\dots$ \\\\\n",
       "\t24 & MIMAT0000085 & 0.516 & -2.605 & 3.468 & -1.089 & 0.134 & -1.174 & $\\dots$ \\\\\n",
       "\t$\\dots$ & $\\dots$ & $\\dots$ & $\\dots$ & $\\dots$ & $\\dots$ & $\\dots$ & $\\dots$ &  \\\\\n",
       "\\end{tabular}\n"
      ],
      "text/plain": [
       "\u001b[1m2565×1786 DataFrame\u001b[0m\n",
       "\u001b[1m  Row \u001b[0m│\u001b[1m rn                         \u001b[0m\u001b[1m GSM3268083 \u001b[0m\u001b[1m GSM3268084 \u001b[0m\u001b[1m GSM3268085 \u001b[0m\u001b[1m GSM326\u001b[0m ⋯\n",
       "\u001b[1m      \u001b[0m│\u001b[90m String?                    \u001b[0m\u001b[90m Float64?   \u001b[0m\u001b[90m Float64?   \u001b[0m\u001b[90m Float64?   \u001b[0m\u001b[90m Float6\u001b[0m ⋯\n",
       "──────┼─────────────────────────────────────────────────────────────────────────\n",
       "    1 │ MIMAT0000062                     3.27       -2.605       4.654      -1 ⋯\n",
       "    2 │ MIMAT0000063                     2.959      -2.605       3.59       -1\n",
       "    3 │ MIMAT0000064                     0.516      -2.605       1.925      -1\n",
       "    4 │ MIMAT0000065                     0.516       0.387      -1.809       1\n",
       "    5 │ MIMAT0000066                     0.516      -2.605       3.493      -1 ⋯\n",
       "    6 │ MIMAT0000067                     0.516      -2.605       1.522      -1\n",
       "    7 │ MIMAT0000068                     0.516       1.855       3.051      -1\n",
       "    8 │ MIMAT0000069                     0.516      -2.605      -1.809      -1\n",
       "  ⋮   │             ⋮                   ⋮           ⋮           ⋮           ⋮  ⋱\n",
       " 2559 │ MIMAT0032110                     0.516      -2.605      -1.809      -1 ⋯\n",
       " 2560 │ MIMAT0032114, MIMAT0032115       0.516      -2.605       2.696      -1\n",
       " 2561 │ MIMAT0032116                     8.022       6.0         6.797       5\n",
       " 2562 │ MIMAT0033692                     5.669       4.994       4.937       4\n",
       " 2563 │ MIMAT0035542                     0.516       3.286       3.153      -1 ⋯\n",
       " 2564 │ MIMAT0035703                     0.516       3.58       -1.809      -1\n",
       " 2565 │ MIMAT0035704                     0.516      -2.605      -1.809      -1\n",
       "\u001b[36m                                              1782 columns and 2550 rows omitted\u001b[0m"
      ]
     },
     "metadata": {},
     "output_type": "display_data"
    }
   ],
   "source": [
    "lpheno = S3Path(\"s3://envbran/methylation/GSE117064_pheno.arrow\")\n",
    "lmirna = S3Path(\"s3://envbran/methylation/GSE117064_mirna.arrow\")\n",
    "\n",
    "pheno = DataFrame(Arrow.Table(lpheno))\n",
    "pheno = pheno[pheno.relation .== \"\",:]\n",
    "mirna = DataFrame(Arrow.Table(lmirna))"
   ]
  }
 ],
 "metadata": {
  "kernelspec": {
   "display_name": "Julia 1.6.1",
   "language": "julia",
   "name": "julia-1.6"
  },
  "language_info": {
   "file_extension": ".jl",
   "mimetype": "application/julia",
   "name": "julia",
   "version": "1.6.1"
  }
 },
 "nbformat": 4,
 "nbformat_minor": 2
}
