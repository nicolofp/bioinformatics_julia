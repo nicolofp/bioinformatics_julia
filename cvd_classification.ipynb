{
 "cells": [
  {
   "cell_type": "markdown",
   "id": "f56c2057",
   "metadata": {},
   "source": [
    "# CVD classification\n",
    "---"
   ]
  },
  {
   "cell_type": "code",
   "execution_count": 1,
   "id": "437d72ed",
   "metadata": {},
   "outputs": [],
   "source": [
    "using DataFrames, Statistics, LinearAlgebra\n",
    "using Distributions, StatsBase, Random, MLJ, ShapML\n",
    "\n",
    "include(\"src/test_s3.jl\");"
   ]
  },
  {
   "cell_type": "code",
   "execution_count": 62,
   "id": "5f30e1eb",
   "metadata": {},
   "outputs": [],
   "source": [
    "lpheno = S3Path(\"s3://envbran/methylation/GSE117064_pheno.arrow\")\n",
    "lmirna = S3Path(\"s3://envbran/methylation/GSE117064_mirna.arrow\")\n",
    "\n",
    "pheno = DataFrame(Arrow.Table(lpheno));\n",
    "mirna = DataFrame(Arrow.Table(lmirna));"
   ]
  },
  {
   "cell_type": "code",
   "execution_count": 68,
   "id": "9ee7cd75",
   "metadata": {},
   "outputs": [],
   "source": [
    "pheno = pheno[pheno.class_label .== 1,:];\n",
    "pheno.diagnosis = Int64.(pheno.diagnosis)\n",
    "mirna = mirna[:,vcat(\"rn\",pheno.geo_accession)];\n",
    "mirna.rn = \"miRNA\" .* string.(1:2565);\n",
    "Tmirna = permutedims(mirna,1);"
   ]
  },
  {
   "cell_type": "code",
   "execution_count": 69,
   "id": "d6b5c324",
   "metadata": {},
   "outputs": [],
   "source": [
    "train, test = partition(collect(eachindex(Tmirna.miRNA1)), 0.8, shuffle=true, rng=111)\n",
    "X = MLJ.table(Matrix{Float64}(Tmirna[:,2:2566]))\n",
    "y = coerce(pheno.diagnosis, OrderedFactor);"
   ]
  },
  {
   "cell_type": "code",
   "execution_count": 70,
   "id": "71474cf0",
   "metadata": {},
   "outputs": [
    {
     "name": "stdout",
     "output_type": "stream",
     "text": [
      "import MLJModels ✔\n",
      "import MLJLinearModels ✔\n"
     ]
    },
    {
     "name": "stderr",
     "output_type": "stream",
     "text": [
      "\u001b[36m\u001b[1m[ \u001b[22m\u001b[39m\u001b[36m\u001b[1mInfo: \u001b[22m\u001b[39mFor silent loading, specify `verbosity=0`. \n",
      "\u001b[36m\u001b[1m[ \u001b[22m\u001b[39m\u001b[36m\u001b[1mInfo: \u001b[22m\u001b[39mFor silent loading, specify `verbosity=0`. \n"
     ]
    }
   ],
   "source": [
    "# Create machine for Elastic-Net Regression \n",
    "Standardizer = @load Standardizer pkg=MLJModels\n",
    "LogisticClassifier = @load LogisticClassifier pkg=MLJLinearModels;"
   ]
  },
  {
   "cell_type": "code",
   "execution_count": 87,
   "id": "63d055e8",
   "metadata": {},
   "outputs": [
    {
     "data": {
      "text/plain": [
       "LogisticClassifier(\n",
       "  lambda = 2.220446049250313e-16, \n",
       "  gamma = 0.0, \n",
       "  penalty = :l1, \n",
       "  fit_intercept = true, \n",
       "  penalize_intercept = false, \n",
       "  scale_penalty_with_samples = true, \n",
       "  solver = MLJLinearModels.ProxGrad\n",
       "  accel: Bool false\n",
       "  max_iter: Int64 10000\n",
       "  tol: Float64 0.0001\n",
       "  max_inner: Int64 100\n",
       "  beta: Float64 0.8\n",
       "  gram: Bool false\n",
       ")"
      ]
     },
     "execution_count": 87,
     "metadata": {},
     "output_type": "execute_result"
    }
   ],
   "source": [
    "model = LogisticClassifier(solver = MLJLinearModels.ProxGrad(max_iter = 10000),\n",
    "                           penalty = :l1)"
   ]
  },
  {
   "cell_type": "code",
   "execution_count": 88,
   "id": "e61dc089",
   "metadata": {},
   "outputs": [
    {
     "data": {
      "text/plain": [
       "untrained Machine; caches model-specific representations of data\n",
       "  model: LogisticClassifier(lambda = 2.220446049250313e-16, …)\n",
       "  args: \n",
       "    1:\tSource @760 ⏎ Table{AbstractVector{ScientificTypesBase.Continuous}}\n",
       "    2:\tSource @143 ⏎ AbstractVector{OrderedFactor{2}}\n"
      ]
     },
     "execution_count": 88,
     "metadata": {},
     "output_type": "execute_result"
    }
   ],
   "source": [
    "mach = machine(model, X, y) "
   ]
  },
  {
   "cell_type": "code",
   "execution_count": 89,
   "id": "c410cbd1",
   "metadata": {},
   "outputs": [
    {
     "name": "stderr",
     "output_type": "stream",
     "text": [
      "\u001b[36m\u001b[1m[ \u001b[22m\u001b[39m\u001b[36m\u001b[1mInfo: \u001b[22m\u001b[39mTraining machine(LogisticClassifier(lambda = 2.220446049250313e-16, …), …).\n",
      "\u001b[36m\u001b[1m┌ \u001b[22m\u001b[39m\u001b[36m\u001b[1mInfo: \u001b[22m\u001b[39mSolver: MLJLinearModels.ProxGrad\n",
      "\u001b[36m\u001b[1m│ \u001b[22m\u001b[39m  accel: Bool false\n",
      "\u001b[36m\u001b[1m│ \u001b[22m\u001b[39m  max_iter: Int64 10000\n",
      "\u001b[36m\u001b[1m│ \u001b[22m\u001b[39m  tol: Float64 0.0001\n",
      "\u001b[36m\u001b[1m│ \u001b[22m\u001b[39m  max_inner: Int64 100\n",
      "\u001b[36m\u001b[1m│ \u001b[22m\u001b[39m  beta: Float64 0.8\n",
      "\u001b[36m\u001b[1m└ \u001b[22m\u001b[39m  gram: Bool false\n"
     ]
    },
    {
     "data": {
      "text/plain": [
       "trained Machine; caches model-specific representations of data\n",
       "  model: LogisticClassifier(lambda = 2.220446049250313e-16, …)\n",
       "  args: \n",
       "    1:\tSource @760 ⏎ Table{AbstractVector{ScientificTypesBase.Continuous}}\n",
       "    2:\tSource @143 ⏎ AbstractVector{OrderedFactor{2}}\n"
      ]
     },
     "execution_count": 89,
     "metadata": {},
     "output_type": "execute_result"
    }
   ],
   "source": [
    "fit!(mach, rows = train)"
   ]
  },
  {
   "cell_type": "code",
   "execution_count": 92,
   "id": "66458dc1",
   "metadata": {},
   "outputs": [
    {
     "name": "stderr",
     "output_type": "stream",
     "text": [
      "\u001b[33mEvaluating over 10 folds: 100%[=========================] Time: 0:00:25\u001b[39m\n"
     ]
    },
    {
     "data": {
      "text/plain": [
       "PerformanceEvaluation object with these fields:\n",
       "  model, measure, operation, measurement, per_fold,\n",
       "  per_observation, fitted_params_per_fold,\n",
       "  report_per_fold, train_test_rows, resampling, repeats\n",
       "Extract:\n",
       "┌────────────┬──────────────┬─────────────┬─────────┬───────────────────────────\n",
       "│\u001b[22m measure    \u001b[0m│\u001b[22m operation    \u001b[0m│\u001b[22m measurement \u001b[0m│\u001b[22m 1.96*SE \u001b[0m│\u001b[22m per_fold                \u001b[0m ⋯\n",
       "├────────────┼──────────────┼─────────────┼─────────┼───────────────────────────\n",
       "│ Accuracy() │ predict_mode │ 0.968       │ 0.0227  │ [0.914, 0.971, 1.0, 1.0, ⋯\n",
       "└────────────┴──────────────┴─────────────┴─────────┴───────────────────────────\n",
       "\u001b[36m                                                                1 column omitted\u001b[0m\n"
      ]
     },
     "execution_count": 92,
     "metadata": {},
     "output_type": "execute_result"
    }
   ],
   "source": [
    "evaluate!(mach, resampling = CV(nfolds=10, rng=1234),measure = [accuracy])"
   ]
  },
  {
   "cell_type": "code",
   "execution_count": 101,
   "id": "2c23cee9",
   "metadata": {},
   "outputs": [
    {
     "data": {
      "text/plain": [
       "          ┌─────────────┐\n",
       "          │Ground Truth │\n",
       "┌─────────┼──────┬──────┤\n",
       "│Predicted│  0   │  1   │\n",
       "├─────────┼──────┼──────┤\n",
       "│    0    │  38  │  0   │\n",
       "├─────────┼──────┼──────┤\n",
       "│    1    │  0   │  31  │\n",
       "└─────────┴──────┴──────┘\n"
      ]
     },
     "execution_count": 101,
     "metadata": {},
     "output_type": "execute_result"
    }
   ],
   "source": [
    "yhat = MLJ.predict_mode(mach, rows = test);\n",
    "confusion_matrix(yhat, y[test])"
   ]
  },
  {
   "cell_type": "code",
   "execution_count": 103,
   "id": "7194fb22",
   "metadata": {},
   "outputs": [
    {
     "data": {
      "text/plain": [
       "1.0"
      ]
     },
     "execution_count": 103,
     "metadata": {},
     "output_type": "execute_result"
    }
   ],
   "source": [
    "accuracy(yhat, y[test])"
   ]
  }
 ],
 "metadata": {
  "kernelspec": {
   "display_name": "Julia 1.6.1",
   "language": "julia",
   "name": "julia-1.6"
  },
  "language_info": {
   "file_extension": ".jl",
   "mimetype": "application/julia",
   "name": "julia",
   "version": "1.6.1"
  }
 },
 "nbformat": 4,
 "nbformat_minor": 5
}
